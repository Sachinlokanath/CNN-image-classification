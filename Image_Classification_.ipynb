{
  "nbformat": 4,
  "nbformat_minor": 0,
  "metadata": {
    "colab": {
      "name": "Image Classification .ipynb",
      "provenance": []
    },
    "kernelspec": {
      "name": "python3",
      "display_name": "Python 3"
    }
  },
  "cells": [
    {
      "cell_type": "code",
      "metadata": {
        "id": "ynyUFpRLrq7X"
      },
      "source": [
        "\r\n",
        "import tensorflow as tf\r\n",
        "import numpy as np\r\n",
        "from tensorflow import keras\r\n",
        "import os\r\n",
        "import cv2\r\n",
        "from tensorflow.keras.preprocessing.image import ImageDataGenerator\r\n",
        "from tensorflow.keras.preprocessing import image\r\n",
        "import matplotlib.pyplot as plt"
      ],
      "execution_count": 1,
      "outputs": []
    },
    {
      "cell_type": "code",
      "metadata": {
        "id": "alcUdlZA2VZ6"
      },
      "source": [
        "!unzip /content/drive/MyDrive/data_aug/data_agumented.zip -d /content/"
      ],
      "execution_count": null,
      "outputs": []
    },
    {
      "cell_type": "code",
      "metadata": {
        "colab": {
          "base_uri": "https://localhost:8080/"
        },
        "id": "HXl_2vwarwg5",
        "outputId": "f216ec3b-2d03-4573-b074-a02db7de6c9f"
      },
      "source": [
        "train = ImageDataGenerator(rescale=1/255)\r\n",
        "test = ImageDataGenerator(rescale=1/255)\r\n",
        "\r\n",
        "train_dataset = train.flow_from_directory(\"/content/Train\",\r\n",
        "                                          target_size=(150,150),\r\n",
        "                                          batch_size = 16,\r\n",
        "                                          class_mode = 'binary')\r\n",
        "\r\n",
        "\r\n",
        "test_dataset = test.flow_from_directory(\"/content/validation\",\r\n",
        "                                          target_size=(150,150),\r\n",
        "                                          batch_size =16,\r\n",
        "                                          class_mode = 'binary')\r\n",
        "                                         \r\n"
      ],
      "execution_count": 2,
      "outputs": [
        {
          "output_type": "stream",
          "text": [
            "Found 1606 images belonging to 2 classes.\n",
            "Found 162 images belonging to 2 classes.\n"
          ],
          "name": "stdout"
        }
      ]
    },
    {
      "cell_type": "code",
      "metadata": {
        "colab": {
          "base_uri": "https://localhost:8080/"
        },
        "id": "U-yhg8j0zu9F",
        "outputId": "f1cd0805-71b4-4a7d-b008-0982976ff4b6"
      },
      "source": [
        "train_dataset.class_indices"
      ],
      "execution_count": 3,
      "outputs": [
        {
          "output_type": "execute_result",
          "data": {
            "text/plain": [
              "{'defect': 0, 'perfect': 1}"
            ]
          },
          "metadata": {
            "tags": []
          },
          "execution_count": 3
        }
      ]
    },
    {
      "cell_type": "code",
      "metadata": {
        "id": "bEmk6qefz0nM"
      },
      "source": [
        "\r\n",
        "model = keras.Sequential()\r\n",
        "\r\n",
        "\r\n",
        "model.add(keras.layers.Conv2D(32,(3,3),activation='relu',input_shape=(150,150,3)))\r\n",
        "model.add(keras.layers.MaxPool2D(2,2))\r\n",
        "\r\n",
        "model.add(keras.layers.Conv2D(64,(3,3),activation='relu'))\r\n",
        "model.add(keras.layers.MaxPool2D(2,2))\r\n",
        "\r\n",
        "model.add(keras.layers.Conv2D(128,(3,3),activation='relu'))\r\n",
        "model.add(keras.layers.MaxPool2D(2,2))\r\n",
        "\r\n",
        "model.add(keras.layers.Conv2D(128,(3,3),activation='relu'))\r\n",
        "model.add(keras.layers.MaxPool2D(2,2))\r\n",
        "\r\n",
        "model.add(keras.layers.Flatten())\r\n",
        " \r\n",
        "model.add(keras.layers.Dense(512,activation='relu'))\r\n",
        "\r\n",
        "model.add(keras.layers.Dense(1,activation='sigmoid'))"
      ],
      "execution_count": 4,
      "outputs": []
    },
    {
      "cell_type": "code",
      "metadata": {
        "colab": {
          "base_uri": "https://localhost:8080/"
        },
        "id": "GJPwjPxj0FPv",
        "outputId": "6b3b9041-b57c-43d2-ea72-f668c31c1600"
      },
      "source": [
        "model.summary()"
      ],
      "execution_count": 5,
      "outputs": [
        {
          "output_type": "stream",
          "text": [
            "Model: \"sequential\"\n",
            "_________________________________________________________________\n",
            "Layer (type)                 Output Shape              Param #   \n",
            "=================================================================\n",
            "conv2d (Conv2D)              (None, 148, 148, 32)      896       \n",
            "_________________________________________________________________\n",
            "max_pooling2d (MaxPooling2D) (None, 74, 74, 32)        0         \n",
            "_________________________________________________________________\n",
            "conv2d_1 (Conv2D)            (None, 72, 72, 64)        18496     \n",
            "_________________________________________________________________\n",
            "max_pooling2d_1 (MaxPooling2 (None, 36, 36, 64)        0         \n",
            "_________________________________________________________________\n",
            "conv2d_2 (Conv2D)            (None, 34, 34, 128)       73856     \n",
            "_________________________________________________________________\n",
            "max_pooling2d_2 (MaxPooling2 (None, 17, 17, 128)       0         \n",
            "_________________________________________________________________\n",
            "conv2d_3 (Conv2D)            (None, 15, 15, 128)       147584    \n",
            "_________________________________________________________________\n",
            "max_pooling2d_3 (MaxPooling2 (None, 7, 7, 128)         0         \n",
            "_________________________________________________________________\n",
            "flatten (Flatten)            (None, 6272)              0         \n",
            "_________________________________________________________________\n",
            "dense (Dense)                (None, 512)               3211776   \n",
            "_________________________________________________________________\n",
            "dense_1 (Dense)              (None, 1)                 513       \n",
            "=================================================================\n",
            "Total params: 3,453,121\n",
            "Trainable params: 3,453,121\n",
            "Non-trainable params: 0\n",
            "_________________________________________________________________\n"
          ],
          "name": "stdout"
        }
      ]
    },
    {
      "cell_type": "code",
      "metadata": {
        "id": "gl17IMd40HfG"
      },
      "source": [
        "model.compile(optimizer='adam',loss='binary_crossentropy',metrics=['accuracy'])"
      ],
      "execution_count": 6,
      "outputs": []
    },
    {
      "cell_type": "code",
      "metadata": {
        "colab": {
          "base_uri": "https://localhost:8080/"
        },
        "id": "TdPZzUiu0LWM",
        "outputId": "b6b48152-e86d-4478-91a9-18dedeaccfa4"
      },
      "source": [
        "\r\n",
        "model.fit(train_dataset,\r\n",
        "         steps_per_epoch = 100,   # total traing data (803+803)/batch size (16)\r\n",
        "         epochs = 2,\r\n",
        "         validation_data = test_dataset\r\n",
        "       \r\n",
        "         )"
      ],
      "execution_count": 7,
      "outputs": [
        {
          "output_type": "stream",
          "text": [
            "Epoch 1/2\n",
            "100/100 [==============================] - 83s 824ms/step - loss: 0.6215 - accuracy: 0.6203 - val_loss: 4.8421e-08 - val_accuracy: 1.0000\n",
            "Epoch 2/2\n",
            "100/100 [==============================] - 81s 812ms/step - loss: 2.3548e-07 - accuracy: 1.0000 - val_loss: 2.6194e-07 - val_accuracy: 1.0000\n"
          ],
          "name": "stdout"
        },
        {
          "output_type": "execute_result",
          "data": {
            "text/plain": [
              "<tensorflow.python.keras.callbacks.History at 0x7fd0da383c50>"
            ]
          },
          "metadata": {
            "tags": []
          },
          "execution_count": 7
        }
      ]
    },
    {
      "cell_type": "code",
      "metadata": {
        "id": "ztRTio3a0RGM"
      },
      "source": [
        "def predictImage(filename):\r\n",
        "    img1 = image.load_img(filename,target_size=(150,150))\r\n",
        "    \r\n",
        "    plt.imshow(img1)\r\n",
        " \r\n",
        "    Y = image.img_to_array(img1)\r\n",
        "    \r\n",
        "    X = np.expand_dims(Y,axis=0)\r\n",
        "    val = model.predict(X)\r\n",
        "    print(val)\r\n",
        "    if val == 1:\r\n",
        "        \r\n",
        "        plt.xlabel(\"perfect\",fontsize=30)\r\n",
        "        \r\n",
        "    \r\n",
        "    elif val == 0:\r\n",
        "        \r\n",
        "        plt.xlabel(\"defect\",fontsize=30)"
      ],
      "execution_count": 14,
      "outputs": []
    },
    {
      "cell_type": "code",
      "metadata": {
        "colab": {
          "base_uri": "https://localhost:8080/",
          "height": 261
        },
        "id": "RKpEh4QJ58kb",
        "outputId": "65f47382-783e-4a3f-f21d-795425efb0d4"
      },
      "source": [
        "predictImage(\"/content/388342.jpg\")\r\n",
        "plt.imshow(image.load_img(\"/content/388342.jpg\"))"
      ],
      "execution_count": 19,
      "outputs": [
        {
          "output_type": "stream",
          "text": [
            "[[0.]]\n"
          ],
          "name": "stdout"
        },
        {
          "output_type": "execute_result",
          "data": {
            "text/plain": [
              "<matplotlib.image.AxesImage at 0x7fd0d5c59400>"
            ]
          },
          "metadata": {
            "tags": []
          },
          "execution_count": 19
        },
        {
          "output_type": "display_data",
          "data": {
            "image/png": "[encoded data removed]",
            "text/plain": [
              "<Figure size 432x288 with 1 Axes>"
            ]
          },
          "metadata": {
            "tags": [],
            "needs_background": "light"
          }
        }
      ]
    },
    {
      "cell_type": "code",
      "metadata": {
        "id": "5LWvAa0z6EIY",
        "colab": {
          "base_uri": "https://localhost:8080/",
          "height": 262
        },
        "outputId": "126cbcf5-9fb1-472f-bb49-0dba0f408c91"
      },
      "source": [
        "predictImage(\"/content/fkfkd.jpg\")\r\n",
        "plt.imshow(image.load_img(\"/content/fkfkd.jpg\"))"
      ],
      "execution_count": 24,
      "outputs": [
        {
          "output_type": "stream",
          "text": [
            "[[0.]]\n"
          ],
          "name": "stdout"
        },
        {
          "output_type": "execute_result",
          "data": {
            "text/plain": [
              "<matplotlib.image.AxesImage at 0x7fd0d64a1780>"
            ]
          },
          "metadata": {
            "tags": []
          },
          "execution_count": 24
        },
        {
          "output_type": "display_data",
          "data": {
            "image/png": "[encoded data removed]",
            "text/plain": [
              "<Figure size 432x288 with 1 Axes>"
            ]
          },
          "metadata": {
            "tags": [],
            "needs_background": "light"
          }
        }
      ]
    },
    {
      "cell_type": "code",
      "metadata": {
        "colab": {
          "base_uri": "https://localhost:8080/",
          "height": 261
        },
        "id": "Oitt5obs5J7L",
        "outputId": "3f5ac1d8-e7f0-4821-e544-570dbde59385"
      },
      "source": [
        "predictImage(\"/content/484160.jpg\")\r\n",
        "plt.imshow(image.load_img(\"/content/484160.jpg\"))"
      ],
      "execution_count": 25,
      "outputs": [
        {
          "output_type": "stream",
          "text": [
            "[[1.]]\n"
          ],
          "name": "stdout"
        },
        {
          "output_type": "execute_result",
          "data": {
            "text/plain": [
              "<matplotlib.image.AxesImage at 0x7fd0d6154588>"
            ]
          },
          "metadata": {
            "tags": []
          },
          "execution_count": 25
        },
        {
          "output_type": "display_data",
          "data": {
            "image/png": "[encoded data removed]",
            "text/plain": [
              "<Figure size 432x288 with 1 Axes>"
            ]
          },
          "metadata": {
            "tags": [],
            "needs_background": "light"
          }
        }
      ]
    },
    {
      "cell_type": "code",
      "metadata": {
        "colab": {
          "base_uri": "https://localhost:8080/",
          "height": 261
        },
        "id": "HWEg6YWw5ZoB",
        "outputId": "e1dd2cb3-3241-47c4-baf4-befff00780ae"
      },
      "source": [
        "predictImage(\"/content/505282.jpg\")\r\n",
        "plt.imshow(image.load_img(\"/content/505282.jpg\"))"
      ],
      "execution_count": 26,
      "outputs": [
        {
          "output_type": "stream",
          "text": [
            "[[1.]]\n"
          ],
          "name": "stdout"
        },
        {
          "output_type": "execute_result",
          "data": {
            "text/plain": [
              "<matplotlib.image.AxesImage at 0x7fd0d63ae080>"
            ]
          },
          "metadata": {
            "tags": []
          },
          "execution_count": 26
        },
        {
          "output_type": "display_data",
          "data": {
            "image/png": "[encoded data removed]",
            "text/plain": [
              "<Figure size 432x288 with 1 Axes>"
            ]
          },
          "metadata": {
            "tags": [],
            "needs_background": "light"
          }
        }
      ]
    },
    {
      "cell_type": "code",
      "metadata": {
        "colab": {
          "base_uri": "https://localhost:8080/",
          "height": 261
        },
        "id": "Xov2gyYK5eRg",
        "outputId": "1ffea8a0-5565-436d-86a4-de8ed83348de"
      },
      "source": [
        "predictImage(\"/content/291945.jpg\")\r\n",
        "plt.imshow(image.load_img(\"/content/291945.jpg\"))"
      ],
      "execution_count": 21,
      "outputs": [
        {
          "output_type": "stream",
          "text": [
            "[[0.]]\n"
          ],
          "name": "stdout"
        },
        {
          "output_type": "execute_result",
          "data": {
            "text/plain": [
              "<matplotlib.image.AxesImage at 0x7fd0d5b1f978>"
            ]
          },
          "metadata": {
            "tags": []
          },
          "execution_count": 21
        },
        {
          "output_type": "display_data",
          "data": {
            "image/png": "[encoded data removed]",
            "text/plain": [
              "<Figure size 432x288 with 1 Axes>"
            ]
          },
          "metadata": {
            "tags": [],
            "needs_background": "light"
          }
        }
      ]
    },
    {
      "cell_type": "code",
      "metadata": {
        "colab": {
          "base_uri": "https://localhost:8080/",
          "height": 261
        },
        "id": "Otr5LDAd6t_j",
        "outputId": "69689a99-cd5c-493a-f98f-fa769651d0ff"
      },
      "source": [
        "predictImage(\"/content/385104.jpg\")\r\n",
        "plt.imshow(image.load_img(\"/content/385104.jpg\"))"
      ],
      "execution_count": 22,
      "outputs": [
        {
          "output_type": "stream",
          "text": [
            "[[0.]]\n"
          ],
          "name": "stdout"
        },
        {
          "output_type": "execute_result",
          "data": {
            "text/plain": [
              "<matplotlib.image.AxesImage at 0x7fd0d60ebe80>"
            ]
          },
          "metadata": {
            "tags": []
          },
          "execution_count": 22
        },
        {
          "output_type": "display_data",
          "data": {
            "image/png": "[encoded data removed]",
            "text/plain": [
              "<Figure size 432x288 with 1 Axes>"
            ]
          },
          "metadata": {
            "tags": [],
            "needs_background": "light"
          }
        }
      ]
    },
    {
      "cell_type": "code",
      "metadata": {
        "colab": {
          "base_uri": "https://localhost:8080/",
          "height": 261
        },
        "id": "6vZ1v01L7pFo",
        "outputId": "068682ba-4655-45e8-86d6-4b931dc7dbbe"
      },
      "source": [
        "predictImage(\"/content/16309.jpg\")\r\n",
        "plt.imshow(image.load_img(\"/content/16309.jpg\"))"
      ],
      "execution_count": 23,
      "outputs": [
        {
          "output_type": "stream",
          "text": [
            "[[1.]]\n"
          ],
          "name": "stdout"
        },
        {
          "output_type": "execute_result",
          "data": {
            "text/plain": [
              "<matplotlib.image.AxesImage at 0x7fd0d61f7400>"
            ]
          },
          "metadata": {
            "tags": []
          },
          "execution_count": 23
        },
        {
          "output_type": "display_data",
          "data": {
            "image/png": "[encoded data removed]",
            "text/plain": [
              "<Figure size 432x288 with 1 Axes>"
            ]
          },
          "metadata": {
            "tags": [],
            "needs_background": "light"
          }
        }
      ]
    }
  ]
}